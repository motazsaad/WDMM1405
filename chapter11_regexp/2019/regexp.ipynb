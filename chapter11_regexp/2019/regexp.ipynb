{
 "cells": [
  {
   "cell_type": "markdown",
   "metadata": {},
   "source": [
    "# String find "
   ]
  },
  {
   "cell_type": "code",
   "execution_count": 1,
   "metadata": {},
   "outputs": [
    {
     "data": {
      "text/plain": [
       "0"
      ]
     },
     "execution_count": 1,
     "metadata": {},
     "output_type": "execute_result"
    }
   ],
   "source": [
    "s = 'hello world :)'\n",
    "s.find('hel')"
   ]
  },
  {
   "cell_type": "code",
   "execution_count": 33,
   "metadata": {},
   "outputs": [
    {
     "data": {
      "text/plain": [
       "-1"
      ]
     },
     "execution_count": 33,
     "metadata": {},
     "output_type": "execute_result"
    }
   ],
   "source": [
    "s = 'hello world :)'\n",
    "s.find('hek')"
   ]
  },
  {
   "cell_type": "code",
   "execution_count": 3,
   "metadata": {},
   "outputs": [
    {
     "data": {
      "text/plain": [
       "6"
      ]
     },
     "execution_count": 3,
     "metadata": {},
     "output_type": "execute_result"
    }
   ],
   "source": [
    "s.find('w')"
   ]
  },
  {
   "cell_type": "markdown",
   "metadata": {},
   "source": [
    "# Regex search "
   ]
  },
  {
   "cell_type": "code",
   "execution_count": 6,
   "metadata": {},
   "outputs": [
    {
     "data": {
      "text/plain": [
       "<re.Match object; span=(6, 7), match='w'>"
      ]
     },
     "execution_count": 6,
     "metadata": {},
     "output_type": "execute_result"
    }
   ],
   "source": [
    "import re \n",
    "s = 'hello world :)'\n",
    "re.search('w', s)"
   ]
  },
  {
   "cell_type": "markdown",
   "metadata": {},
   "source": [
    "# re.search return None if there is no match"
   ]
  },
  {
   "cell_type": "code",
   "execution_count": 7,
   "metadata": {},
   "outputs": [],
   "source": [
    "re.search('m', s)"
   ]
  },
  {
   "cell_type": "code",
   "execution_count": 8,
   "metadata": {},
   "outputs": [
    {
     "name": "stdout",
     "output_type": "stream",
     "text": [
      "None\n"
     ]
    }
   ],
   "source": [
    "print(re.search('m', s))"
   ]
  },
  {
   "cell_type": "code",
   "execution_count": 37,
   "metadata": {},
   "outputs": [],
   "source": [
    "char = 'm'\n",
    "if re.search(char, s):\n",
    "    print(char, 'found')"
   ]
  },
  {
   "cell_type": "code",
   "execution_count": 38,
   "metadata": {},
   "outputs": [
    {
     "name": "stdout",
     "output_type": "stream",
     "text": [
      "w found\n"
     ]
    }
   ],
   "source": [
    "char = 'w'\n",
    "if re.search(char, s):\n",
    "    print(char, 'found')"
   ]
  },
  {
   "cell_type": "code",
   "execution_count": 39,
   "metadata": {},
   "outputs": [],
   "source": [
    "re.search('^w', s)"
   ]
  },
  {
   "cell_type": "markdown",
   "metadata": {},
   "source": [
    "# Regex findall method returns a list of results "
   ]
  },
  {
   "cell_type": "code",
   "execution_count": 41,
   "metadata": {},
   "outputs": [],
   "source": [
    "x = 'My 2 favorite numbers are 19 and 42, 2019'"
   ]
  },
  {
   "cell_type": "code",
   "execution_count": 42,
   "metadata": {},
   "outputs": [
    {
     "name": "stdout",
     "output_type": "stream",
     "text": [
      "['2', '19', '42', '2019']\n"
     ]
    }
   ],
   "source": [
    "print(re.findall('[0-9]+', x))"
   ]
  },
  {
   "cell_type": "code",
   "execution_count": 10,
   "metadata": {},
   "outputs": [
    {
     "name": "stdout",
     "output_type": "stream",
     "text": [
      "[]\n"
     ]
    }
   ],
   "source": [
    "print(re.findall('[A-C]+', x))"
   ]
  },
  {
   "cell_type": "code",
   "execution_count": 25,
   "metadata": {},
   "outputs": [
    {
     "name": "stdout",
     "output_type": "stream",
     "text": [
      "['2', '1', '9', '4', '2', '2', '0', '1', '9']\n"
     ]
    }
   ],
   "source": [
    "x = 'My 2 favorite numbers are 19 and 42, 2019'\n",
    "print(re.findall('[0-9]', x))"
   ]
  },
  {
   "cell_type": "code",
   "execution_count": 56,
   "metadata": {},
   "outputs": [
    {
     "name": "stdout",
     "output_type": "stream",
     "text": [
      "['2', '1', '42', '201']\n"
     ]
    }
   ],
   "source": [
    "x = 'My 2 favorite numbers are 19 and 42, 2019'\n",
    "print(re.findall('[0-7]+', x))"
   ]
  },
  {
   "cell_type": "code",
   "execution_count": 11,
   "metadata": {},
   "outputs": [
    {
     "data": {
      "text/plain": [
       "['a', 'o', 'i', 'e', 'u', 'e', 'a', 'e', 'a']"
      ]
     },
     "execution_count": 11,
     "metadata": {},
     "output_type": "execute_result"
    }
   ],
   "source": [
    "x1 = 'My 2 favorite numbers are 19 and 42, 2019'\n",
    "re.findall('[aeiou]+', x1)"
   ]
  },
  {
   "cell_type": "code",
   "execution_count": 27,
   "metadata": {},
   "outputs": [
    {
     "data": {
      "text/plain": [
       "['a', 'o', 'i', 'e', 'u', 'e', 'a', 'e', 'a', 'a', 'ea']"
      ]
     },
     "execution_count": 27,
     "metadata": {},
     "output_type": "execute_result"
    }
   ],
   "source": [
    "x2 = 'My 2 favorite numbers are 19 and 42, 2019 at beach'\n",
    "re.findall('[aeiou]+', x2)"
   ]
  },
  {
   "cell_type": "code",
   "execution_count": 62,
   "metadata": {},
   "outputs": [
    {
     "name": "stdout",
     "output_type": "stream",
     "text": [
      "['a', 'o', 'i', 'e', 'u', 'e', 'a', 'e', 'a']\n"
     ]
    }
   ],
   "source": [
    "x = 'My 2 favorite numbers are 19 and 42, 2019'\n",
    "l = re.findall('[aeiou]', x)\n",
    "print(l)"
   ]
  },
  {
   "cell_type": "code",
   "execution_count": 58,
   "metadata": {},
   "outputs": [
    {
     "name": "stdout",
     "output_type": "stream",
     "text": [
      "['M', 'y', ' ', '2', ' ', 'f', 'v', 'r', 't', ' ', 'n', 'm', 'b', 'r', 's', ' ', 'r', ' ', '1', '9', ' ', 'n', 'd', ' ', '4', '2', ',', ' ', '2', '0', '1', '9']\n"
     ]
    }
   ],
   "source": [
    "x = 'My 2 favorite numbers are 19 and 42, 2019'\n",
    "print(re.findall('[^aeiou]', x))"
   ]
  },
  {
   "cell_type": "code",
   "execution_count": 15,
   "metadata": {},
   "outputs": [
    {
     "name": "stdout",
     "output_type": "stream",
     "text": [
      "['My 2 f', 'v', 'r', 't', ' n', 'mb', 'rs ', 'r', ' 19 ', 'nd 42, 2019']\n"
     ]
    }
   ],
   "source": [
    "x = 'My 2 favorite numbers are 19 and 42, 2019'\n",
    "print(re.findall('[^aeiou]+', x))"
   ]
  },
  {
   "cell_type": "code",
   "execution_count": 16,
   "metadata": {},
   "outputs": [
    {
     "name": "stdout",
     "output_type": "stream",
     "text": [
      "[]\n"
     ]
    }
   ],
   "source": [
    "print(re.findall('[AEIOU]+', x))"
   ]
  },
  {
   "cell_type": "code",
   "execution_count": 22,
   "metadata": {},
   "outputs": [
    {
     "name": "stdout",
     "output_type": "stream",
     "text": [
      "count 27\n"
     ]
    }
   ],
   "source": [
    "infile = open('mbox-short.txt')\n",
    "import re\n",
    "count = 0 \n",
    "for line in infile:\n",
    "    if re.search('^From:', line):\n",
    "        #print(line)\n",
    "        count += 1 \n",
    "print('count', count)"
   ]
  },
  {
   "cell_type": "code",
   "execution_count": 23,
   "metadata": {},
   "outputs": [
    {
     "name": "stdout",
     "output_type": "stream",
     "text": [
      "count 216\n"
     ]
    }
   ],
   "source": [
    "infile = open('mbox-short.txt')\n",
    "import re\n",
    "count = 0 \n",
    "for line in infile:\n",
    "    if re.search('^X.*:', line):\n",
    "        #print(line)\n",
    "        count += 1 \n",
    "print('count', count)"
   ]
  },
  {
   "cell_type": "markdown",
   "metadata": {},
   "source": [
    "# Greedy search"
   ]
  },
  {
   "cell_type": "code",
   "execution_count": 29,
   "metadata": {},
   "outputs": [
    {
     "name": "stdout",
     "output_type": "stream",
     "text": [
      "['From: Using the :']\n"
     ]
    }
   ],
   "source": [
    "import re\n",
    "x = 'From: Using the : character'\n",
    "y = re.findall('^F.+:', x)\n",
    "print(y)"
   ]
  },
  {
   "cell_type": "markdown",
   "metadata": {},
   "source": [
    "# non-Greedy search"
   ]
  },
  {
   "cell_type": "code",
   "execution_count": 30,
   "metadata": {},
   "outputs": [
    {
     "name": "stdout",
     "output_type": "stream",
     "text": [
      "['From:']\n"
     ]
    }
   ],
   "source": [
    "import re\n",
    "x = 'From: Using the : character'\n",
    "y = re.findall('^F.+?:', x)\n",
    "print(y)"
   ]
  },
  {
   "cell_type": "code",
   "execution_count": 28,
   "metadata": {},
   "outputs": [
    {
     "name": "stdout",
     "output_type": "stream",
     "text": [
      "stephen.marquard@uct.ac.za\n"
     ]
    }
   ],
   "source": [
    "line = 'From stephen.marquard@uct.ac.za Sat Jan  5 09:14:16 2008'\n",
    "print(line.split()[1])"
   ]
  },
  {
   "cell_type": "markdown",
   "metadata": {},
   "source": [
    "# Extract email address using regex "
   ]
  },
  {
   "cell_type": "code",
   "execution_count": 2,
   "metadata": {},
   "outputs": [
    {
     "name": "stdout",
     "output_type": "stream",
     "text": [
      "['msaad@iugaza.edu.ps']\n"
     ]
    }
   ],
   "source": [
    "import re\n",
    "x = 'From msaad@iugaza.edu.ps Sat Jan  5 09:14:16 2018'\n",
    "y = re.findall('\\S+@\\S+', x)\n",
    "print(y)"
   ]
  },
  {
   "cell_type": "code",
   "execution_count": 32,
   "metadata": {},
   "outputs": [
    {
     "name": "stdout",
     "output_type": "stream",
     "text": [
      "['msaad@iugaza.edu.ps']\n",
      "[]\n"
     ]
    }
   ],
   "source": [
    "import re\n",
    "x1 = 'From msaad@iugaza.edu.ps Sat Jan  5 09:14:16 2018'\n",
    "x2 = 'my email address is m@google.com'\n",
    "y = re.findall('^From (\\S+@\\S+)', x1)\n",
    "print(y)\n",
    "y = re.findall('^From (\\S+@\\S+)',x2)\n",
    "print(y)"
   ]
  },
  {
   "cell_type": "markdown",
   "metadata": {},
   "source": [
    "# Extract domain name using regex "
   ]
  },
  {
   "cell_type": "code",
   "execution_count": 19,
   "metadata": {},
   "outputs": [
    {
     "name": "stdout",
     "output_type": "stream",
     "text": [
      "['iugaza.edu.ps']\n"
     ]
    }
   ],
   "source": [
    "import re \n",
    "x = 'From msaad@iugaza.edu.ps Sat Jan  5 09:14:16 2008'\n",
    "y = re.findall('@(\\S+)', x)\n",
    "print(y)"
   ]
  },
  {
   "cell_type": "code",
   "execution_count": 21,
   "metadata": {},
   "outputs": [
    {
     "name": "stdout",
     "output_type": "stream",
     "text": [
      "['iugaza.edu.ps']\n"
     ]
    }
   ],
   "source": [
    "import re \n",
    "x = 'From msaad@iugaza.edu.ps Sat Jan  5 09:14:16 2008'\n",
    "y = re.findall('@([^ ]+)', x)\n",
    "print(y)"
   ]
  },
  {
   "cell_type": "code",
   "execution_count": 57,
   "metadata": {},
   "outputs": [
    {
     "name": "stdout",
     "output_type": "stream",
     "text": [
      "['iugaza.edu.ps']\n",
      "[]\n"
     ]
    }
   ],
   "source": [
    "import re \n",
    "x = 'From msaad@iugaza.edu.ps Sat Jan  5 09:14:16 2008'\n",
    "x2 = 'my email address is m@google.com'\n",
    "y = re.findall('^From \\S+@(\\S+)', x)\n",
    "print(y)\n",
    "y = re.findall('^From \\S+@(\\S+)', x2)\n",
    "print(y)"
   ]
  },
  {
   "cell_type": "code",
   "execution_count": 23,
   "metadata": {},
   "outputs": [
    {
     "name": "stdout",
     "output_type": "stream",
     "text": [
      "['iugaza.edu.ps']\n",
      "iugaza.edu.ps\n"
     ]
    }
   ],
   "source": [
    "import re \n",
    "x = 'From msaad@iugaza.edu.ps Sat Jan  5 09:14:16 2008'\n",
    "y = re.findall('^From \\S+@([^ ]+)', x)\n",
    "print(y)\n",
    "print(y[0])"
   ]
  },
  {
   "cell_type": "markdown",
   "metadata": {},
   "source": [
    "# Get the Max and Min spam scores from emails \n",
    "\n",
    "اكتب برنامج لاستخراج سبام سكور \n",
    "\n",
    "spam score \n",
    "\n",
    "\n",
    "من ملف الرسائل الالكترونية وايجاد اعلى وادنى قيمة للسبام\n"
   ]
  },
  {
   "cell_type": "code",
   "execution_count": 9,
   "metadata": {},
   "outputs": [
    {
     "name": "stdout",
     "output_type": "stream",
     "text": [
      "[0.8475, 0.6178, 0.6961, 0.7565, 0.7626, 0.7556, 0.7002, 0.7615, 0.7601, 0.7605, 0.6959, 0.7606, 0.7559, 0.7605, 0.6932, 0.7558, 0.6526, 0.6948, 0.6528, 0.7002, 0.7554, 0.6956, 0.6959, 0.7556, 0.9846, 0.8509, 0.9907]\n",
      "27\n",
      "Maximum: 0.9907\n",
      "Minimum: 0.6178\n"
     ]
    }
   ],
   "source": [
    "import re\n",
    "# open file \n",
    "infile = open('mbox-short.txt')\n",
    "# define empty list for spam score \n",
    "spam_scores = list()\n",
    "# loop on each line \n",
    "for line in infile:\n",
    "    line = line.rstrip() # remove \\n \n",
    "    # match \n",
    "    score = re.findall('^X-DSPAM-Confidence: ([0-9.]+)', line)\n",
    "#     print(score)\n",
    "    if len(score) == 0: # empty list  \n",
    "        continue\n",
    "    num = float(score[0])\n",
    "    spam_scores.append(num)\n",
    "\n",
    "print(spam_scores)\n",
    "print(len(spam_scores))\n",
    "print('Maximum:', max(spam_scores))\n",
    "print('Minimum:', min(spam_scores))"
   ]
  },
  {
   "cell_type": "markdown",
   "metadata": {},
   "source": [
    "# find emails and their spam scores\n",
    "اكتب برنامج لاستخراج السبام سكور والبريد الالكتروني من الترويسة من ملف الرسائل الالكترونية "
   ]
  },
  {
   "cell_type": "code",
   "execution_count": 10,
   "metadata": {},
   "outputs": [
    {
     "name": "stdout",
     "output_type": "stream",
     "text": [
      "['0.8475', '0.6178', '0.6961']\n",
      "['stephen.marquard@uct.ac.za', 'louis@media.berkeley.edu', 'zqian@umich.edu']\n",
      "True\n",
      "email: stephen.marquard@uct.ac.za\tspam score: 0.8475\n",
      "email: louis@media.berkeley.edu\tspam score: 0.6178\n",
      "email: zqian@umich.edu\tspam score: 0.6961\n",
      "email: rjlowe@iupui.edu\tspam score: 0.7565\n",
      "email: zqian@umich.edu\tspam score: 0.7626\n",
      "email: rjlowe@iupui.edu\tspam score: 0.7556\n",
      "email: cwen@iupui.edu\tspam score: 0.7002\n",
      "email: cwen@iupui.edu\tspam score: 0.7615\n",
      "email: gsilver@umich.edu\tspam score: 0.7601\n",
      "email: gsilver@umich.edu\tspam score: 0.7605\n",
      "email: zqian@umich.edu\tspam score: 0.6959\n",
      "email: gsilver@umich.edu\tspam score: 0.7606\n",
      "email: wagnermr@iupui.edu\tspam score: 0.7559\n",
      "email: zqian@umich.edu\tspam score: 0.7605\n",
      "email: antranig@caret.cam.ac.uk\tspam score: 0.6932\n",
      "email: gopal.ramasammycook@gmail.com\tspam score: 0.7558\n",
      "email: david.horwitz@uct.ac.za\tspam score: 0.6526\n",
      "email: david.horwitz@uct.ac.za\tspam score: 0.6948\n",
      "email: david.horwitz@uct.ac.za\tspam score: 0.6528\n",
      "email: david.horwitz@uct.ac.za\tspam score: 0.7002\n",
      "email: stephen.marquard@uct.ac.za\tspam score: 0.7554\n",
      "email: louis@media.berkeley.edu\tspam score: 0.6956\n",
      "email: louis@media.berkeley.edu\tspam score: 0.6959\n",
      "email: ray@media.berkeley.edu\tspam score: 0.7556\n",
      "email: cwen@iupui.edu\tspam score: 0.9846\n",
      "email: cwen@iupui.edu\tspam score: 0.8509\n",
      "email: cwen@iupui.edu\tspam score: 0.9907\n"
     ]
    }
   ],
   "source": [
    "import re\n",
    "infile = open('mbox-short.txt').read()\n",
    "scores = re.findall('^X-DSPAM-Confidence: ([0-9.]+)', infile, re.MULTILINE)\n",
    "print(scores[:3]) # show sample score \n",
    "emails = re.findall('^From (\\S+@\\S+)', infile, re.MULTILINE)\n",
    "print(emails[:3]) # show sample emails  \n",
    "print(len(scores) == len(emails))\n",
    "for email, score in zip(emails, scores):\n",
    "    print('email: {}\\tspam score: {}'.format(email, score))"
   ]
  },
  {
   "cell_type": "markdown",
   "metadata": {},
   "source": [
    "# Escape Character: Extract prices\n",
    "price = $11.99\n",
    "\n",
    "We just received $10.00 for cookies."
   ]
  },
  {
   "cell_type": "code",
   "execution_count": 11,
   "metadata": {},
   "outputs": [
    {
     "name": "stdout",
     "output_type": "stream",
     "text": [
      "['$10.00']\n"
     ]
    }
   ],
   "source": [
    "import re\n",
    "x = 'We just received $10.00 for cookies.'\n",
    "y = re.findall('\\$[0-9.]+',x)\n",
    "print(y)"
   ]
  },
  {
   "cell_type": "code",
   "execution_count": 13,
   "metadata": {},
   "outputs": [
    {
     "name": "stdout",
     "output_type": "stream",
     "text": [
      "['$11.99']\n"
     ]
    }
   ],
   "source": [
    "import re\n",
    "x = 'price = $11.99'\n",
    "y = re.findall('\\$[0-9.]+',x)\n",
    "print(y)"
   ]
  },
  {
   "cell_type": "markdown",
   "metadata": {},
   "source": [
    "# find all prices in a text \n",
    "اكتب برنامج لاستخراج كل الاسعار من نص"
   ]
  },
  {
   "cell_type": "code",
   "execution_count": 11,
   "metadata": {},
   "outputs": [
    {
     "name": "stdout",
     "output_type": "stream",
     "text": [
      "['$545.00', '$1.50', '$12.60']\n"
     ]
    }
   ],
   "source": [
    "import re\n",
    "text = '''\n",
    "I bought a laptop for $545.00  :) \n",
    "I bought milk for $1.50 only \n",
    "The price of the piece is $12.60 incuding VAT\n",
    "I go to the university everyday but thursday and friday\n",
    "'''\n",
    "money = re.findall('\\$[0-9.]+', text, re.MULTILINE)\n",
    "print(money)"
   ]
  },
  {
   "cell_type": "markdown",
   "metadata": {},
   "source": [
    "# Find Money in text :) \n",
    "\n",
    "print the line that contain a price \n",
    "\n",
    "اكتب برنامج لطباعة الاسطر التي تحتوي على سعر "
   ]
  },
  {
   "cell_type": "code",
   "execution_count": 15,
   "metadata": {},
   "outputs": [
    {
     "name": "stdout",
     "output_type": "stream",
     "text": [
      "I bought a laptop for $545.00  :) \n",
      "I bought milk for $1.50 only \n",
      "The price of the piece is $12.60 incuding VAT\n"
     ]
    }
   ],
   "source": [
    "import re\n",
    "text = '''\n",
    "I bought a laptop for $545.00  :) \n",
    "I bought milk for $1.50 only \n",
    "The price of the piece is $12.60 incuding VAT\n",
    "I go to the university everyday but thursday\n",
    "'''\n",
    "for line in text.split('\\n'):\n",
    "    if re.search('\\$[0-9.]+', line):\n",
    "#         print(re.search('\\$[0-9.]+', line))\n",
    "        print(line)"
   ]
  },
  {
   "cell_type": "code",
   "execution_count": 24,
   "metadata": {},
   "outputs": [
    {
     "name": "stdout",
     "output_type": "stream",
     "text": [
      "<re.Match object; span=(18, 29), match='for $545.00'>\n",
      "I bought a laptop for $545.00  :) \n",
      "<re.Match object; span=(14, 23), match='for $1.50'>\n",
      "I bought milk for $1.50 only \n"
     ]
    }
   ],
   "source": [
    "import re\n",
    "text = '''\n",
    "I bought a laptop for $545.00  :) \n",
    "I bought milk for $1.50 only \n",
    "The price of the piece is $12.60 incuding VAT\n",
    "I go to the university everyday but thursday\n",
    "'''\n",
    "for line in text.split('\\n'):\n",
    "    if re.search('for \\$[0-9.]+', line):\n",
    "        print(re.search('for \\$[0-9.]+', line))\n",
    "        print(line)"
   ]
  },
  {
   "cell_type": "code",
   "execution_count": 25,
   "metadata": {},
   "outputs": [
    {
     "name": "stdout",
     "output_type": "stream",
     "text": [
      "<re.Match object; span=(18, 29), match='for $545.00'>\n",
      "I bought a laptop for $545.00  :) \n",
      "<re.Match object; span=(14, 23), match='for $1.50'>\n",
      "I bought milk for $1.50 only \n"
     ]
    }
   ],
   "source": [
    "import re\n",
    "text = '''\n",
    "I bought a laptop for $545.00  :) \n",
    "I bought milk for $1.50 only \n",
    "The price of the piece is $12.60 incuding VAT\n",
    "I go to the university everyday but thursday\n",
    "'''\n",
    "for line in text.split('\\n'):\n",
    "    if re.search('for (\\$[0-9.]+)', line):\n",
    "        print(re.search('for (\\$[0-9.]+)', line))\n",
    "        print(line)"
   ]
  },
  {
   "cell_type": "code",
   "execution_count": null,
   "metadata": {},
   "outputs": [],
   "source": []
  }
 ],
 "metadata": {
  "kernelspec": {
   "display_name": "Python 3",
   "language": "python",
   "name": "python3"
  },
  "language_info": {
   "codemirror_mode": {
    "name": "ipython",
    "version": 3
   },
   "file_extension": ".py",
   "mimetype": "text/x-python",
   "name": "python",
   "nbconvert_exporter": "python",
   "pygments_lexer": "ipython3",
   "version": "3.7.3"
  }
 },
 "nbformat": 4,
 "nbformat_minor": 4
}
