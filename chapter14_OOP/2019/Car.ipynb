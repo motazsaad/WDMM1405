{
 "cells": [
  {
   "cell_type": "code",
   "execution_count": 5,
   "metadata": {},
   "outputs": [],
   "source": [
    "class Car:\n",
    "    def __init__(self, speed=0, color='white', model=None):\n",
    "        self.speed = speed\n",
    "        self.color = color \n",
    "        self.model = model \n",
    "    \n",
    "    def __str__(self):\n",
    "        return 'model:{}\\tcolor:{}\\tspeed:{}'.format(self.model, self.color, self.speed)\n",
    "    \n",
    "    def speedup(self):\n",
    "        self.speed += 10 \n",
    "    def slowdown(self):\n",
    "        if self.speed >= 10: \n",
    "            self.speed -= 10 "
   ]
  },
  {
   "cell_type": "code",
   "execution_count": 6,
   "metadata": {},
   "outputs": [
    {
     "name": "stdout",
     "output_type": "stream",
     "text": [
      "model:None\tcolor:white\tspeed:0\n"
     ]
    }
   ],
   "source": [
    "car1 = Car() # default car \n",
    "print(car1)"
   ]
  },
  {
   "cell_type": "code",
   "execution_count": 7,
   "metadata": {},
   "outputs": [
    {
     "name": "stdout",
     "output_type": "stream",
     "text": [
      "model:BMW\tcolor:white\tspeed:0\n"
     ]
    }
   ],
   "source": [
    "car2 = Car(model='BMW')\n",
    "print(car2)"
   ]
  },
  {
   "cell_type": "code",
   "execution_count": 8,
   "metadata": {},
   "outputs": [
    {
     "name": "stdout",
     "output_type": "stream",
     "text": [
      "model:KIA\tcolor:red\tspeed:10\n"
     ]
    }
   ],
   "source": [
    "car3 = Car(color='red', model='KIA', speed=10)\n",
    "print(car3)"
   ]
  },
  {
   "cell_type": "code",
   "execution_count": 9,
   "metadata": {},
   "outputs": [],
   "source": [
    "car3.speedup()"
   ]
  },
  {
   "cell_type": "code",
   "execution_count": 10,
   "metadata": {},
   "outputs": [
    {
     "name": "stdout",
     "output_type": "stream",
     "text": [
      "model:KIA\tcolor:red\tspeed:20\n"
     ]
    }
   ],
   "source": [
    "print(car3)"
   ]
  },
  {
   "cell_type": "code",
   "execution_count": 11,
   "metadata": {},
   "outputs": [
    {
     "name": "stdout",
     "output_type": "stream",
     "text": [
      "model:KIA\tcolor:red\tspeed:10\n"
     ]
    }
   ],
   "source": [
    "car3.slowdown()\n",
    "print(car3)"
   ]
  },
  {
   "cell_type": "code",
   "execution_count": 12,
   "metadata": {},
   "outputs": [
    {
     "name": "stdout",
     "output_type": "stream",
     "text": [
      "model:KIA\tcolor:red\tspeed:0\n"
     ]
    }
   ],
   "source": [
    "car3.slowdown()\n",
    "print(car3)"
   ]
  },
  {
   "cell_type": "code",
   "execution_count": 13,
   "metadata": {},
   "outputs": [
    {
     "name": "stdout",
     "output_type": "stream",
     "text": [
      "model:KIA\tcolor:red\tspeed:0\n"
     ]
    }
   ],
   "source": [
    "car3.slowdown()\n",
    "print(car3)"
   ]
  },
  {
   "cell_type": "code",
   "execution_count": 14,
   "metadata": {},
   "outputs": [
    {
     "name": "stdout",
     "output_type": "stream",
     "text": [
      "model:KIA\tcolor:red\tspeed:8\n"
     ]
    }
   ],
   "source": [
    "car3.speed = 8\n",
    "print(car3)"
   ]
  },
  {
   "cell_type": "code",
   "execution_count": 15,
   "metadata": {},
   "outputs": [
    {
     "name": "stdout",
     "output_type": "stream",
     "text": [
      "model:KIA\tcolor:red\tspeed:8\n"
     ]
    }
   ],
   "source": [
    "car3.slowdown()\n",
    "print(car3)"
   ]
  },
  {
   "cell_type": "code",
   "execution_count": null,
   "metadata": {},
   "outputs": [],
   "source": []
  }
 ],
 "metadata": {
  "kernelspec": {
   "display_name": "Python 3",
   "language": "python",
   "name": "python3"
  },
  "language_info": {
   "codemirror_mode": {
    "name": "ipython",
    "version": 3
   },
   "file_extension": ".py",
   "mimetype": "text/x-python",
   "name": "python",
   "nbconvert_exporter": "python",
   "pygments_lexer": "ipython3",
   "version": "3.7.0"
  }
 },
 "nbformat": 4,
 "nbformat_minor": 2
}
