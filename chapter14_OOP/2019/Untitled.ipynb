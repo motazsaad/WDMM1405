{
 "cells": [
  {
   "cell_type": "markdown",
   "metadata": {},
   "source": [
    "# Person - Student "
   ]
  },
  {
   "cell_type": "code",
   "execution_count": 1,
   "metadata": {},
   "outputs": [
    {
     "name": "stdout",
     "output_type": "stream",
     "text": [
      "name: Ahmed\tage:30\n"
     ]
    }
   ],
   "source": [
    "class Person:\n",
    "    def __init__(self, name, age):\n",
    "        self.name = name\n",
    "        self.age = age \n",
    "    def walk(self):\n",
    "        print('I am walking')\n",
    "    def __str__(self):\n",
    "        return 'name: {}\\tage:{}'.format(self.name, self.age)\n",
    "p1 = Person('Ahmed', 30)\n",
    "print(p1)"
   ]
  },
  {
   "cell_type": "code",
   "execution_count": 4,
   "metadata": {},
   "outputs": [
    {
     "name": "stdout",
     "output_type": "stream",
     "text": [
      "id: 120191122\tname: Ahmed\tage:20\n"
     ]
    }
   ],
   "source": [
    "class Student(Person):\n",
    "    def __init__(self, std_id, name, age):\n",
    "        self.std_id = std_id\n",
    "        super().__init__(name, age)\n",
    "    def study(self):\n",
    "        print('I am studying')\n",
    "        \n",
    "    def __str__(self):\n",
    "        return 'id: {}\\t{}'.format(self.std_id, super().__str__())\n",
    "        \n",
    "s1 = Student('120191122', 'Ahmed', 20)\n",
    "print(s1)"
   ]
  },
  {
   "cell_type": "code",
   "execution_count": null,
   "metadata": {},
   "outputs": [],
   "source": []
  }
 ],
 "metadata": {
  "kernelspec": {
   "display_name": "Python 3",
   "language": "python",
   "name": "python3"
  },
  "language_info": {
   "codemirror_mode": {
    "name": "ipython",
    "version": 3
   },
   "file_extension": ".py",
   "mimetype": "text/x-python",
   "name": "python",
   "nbconvert_exporter": "python",
   "pygments_lexer": "ipython3",
   "version": "3.7.0"
  }
 },
 "nbformat": 4,
 "nbformat_minor": 2
}
