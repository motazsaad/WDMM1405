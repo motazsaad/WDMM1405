{
 "cells": [
  {
   "cell_type": "markdown",
   "metadata": {},
   "source": [
    "# Chapter 8: Lists - List Examples "
   ]
  },
  {
   "cell_type": "code",
   "execution_count": 5,
   "metadata": {},
   "outputs": [],
   "source": [
    "l = [1, 5, 2, 4, 3]"
   ]
  },
  {
   "cell_type": "markdown",
   "metadata": {},
   "source": [
    "## even list \n",
    "\n",
    "اكتب برنامج لايجاد الارقام الزوجية في قائمة ووضغها في قائمة جديدة"
   ]
  },
  {
   "cell_type": "code",
   "execution_count": 7,
   "metadata": {},
   "outputs": [
    {
     "data": {
      "text/plain": [
       "[2, 4]"
      ]
     },
     "execution_count": 7,
     "metadata": {},
     "output_type": "execute_result"
    }
   ],
   "source": [
    "result = []\n",
    "for num in l:\n",
    "    if num % 2 == 0:\n",
    "        # print(num, 'even')\n",
    "        result.append(num)\n",
    "result"
   ]
  },
  {
   "cell_type": "markdown",
   "metadata": {},
   "source": [
    "اكتب دالة تأخذ قائمة ارقام وتقوم بإرجاع الارقام الزوجية على شكل قائمة"
   ]
  },
  {
   "cell_type": "code",
   "execution_count": 8,
   "metadata": {},
   "outputs": [],
   "source": [
    "def find_even(list1):\n",
    "    result = []\n",
    "    # my code \n",
    "    for num in list1:\n",
    "        if num % 2 == 0:\n",
    "            result.append(num)\n",
    "    return result"
   ]
  },
  {
   "cell_type": "code",
   "execution_count": 9,
   "metadata": {},
   "outputs": [
    {
     "data": {
      "text/plain": [
       "[2, 4]"
      ]
     },
     "execution_count": 9,
     "metadata": {},
     "output_type": "execute_result"
    }
   ],
   "source": [
    "find_even(l)"
   ]
  },
  {
   "cell_type": "code",
   "execution_count": 10,
   "metadata": {},
   "outputs": [
    {
     "data": {
      "text/plain": [
       "[2, 6, 10, 78, 14]"
      ]
     },
     "execution_count": 10,
     "metadata": {},
     "output_type": "execute_result"
    }
   ],
   "source": [
    "find_even([2, 6, 5, 10, 87, 78, 14, 3])"
   ]
  },
  {
   "cell_type": "markdown",
   "metadata": {},
   "source": [
    "## elements larger than left neighbor \n",
    "اكتب دالة لايجاد الارقام التي اكبر من جارتها على اليسار \n"
   ]
  },
  {
   "cell_type": "code",
   "execution_count": 11,
   "metadata": {},
   "outputs": [
    {
     "name": "stdout",
     "output_type": "stream",
     "text": [
      "6\n",
      "10\n",
      "87\n"
     ]
    }
   ],
   "source": [
    "list2 = [2, 6, 5, 10, 87, 78, 14, 3]\n",
    "for i in range(1, len(list2)):\n",
    "    if list2[i] > list2[i-1]:\n",
    "        print(list2[i])"
   ]
  },
  {
   "cell_type": "code",
   "execution_count": 12,
   "metadata": {},
   "outputs": [
    {
     "data": {
      "text/plain": [
       "[6, 10, 87]"
      ]
     },
     "execution_count": 12,
     "metadata": {},
     "output_type": "execute_result"
    }
   ],
   "source": [
    "list2 = [2, 6, 5, 10, 87, 78, 14, 3]\n",
    "result = []\n",
    "for i in range(1, len(list2)):\n",
    "    if list2[i] > list2[i-1]:\n",
    "        result.append(list2[i])\n",
    "result"
   ]
  },
  {
   "cell_type": "markdown",
   "metadata": {},
   "source": [
    "## handle student marks \n",
    "اكتب برنامج لايجاد المجموع لعلامات الطلاب\n",
    "\n",
    "علامة النصفي وعلامة المعمل و علامة الامتحان النهائي\n",
    "\n",
    "اكتب المجموع على ملف\n",
    "\n",
    "اكتب سجل العلامات كاملا بالاضافة الى المجموع على ملف\n"
   ]
  },
  {
   "cell_type": "code",
   "execution_count": 16,
   "metadata": {},
   "outputs": [
    {
     "name": "stdout",
     "output_type": "stream",
     "text": [
      "37\n",
      "40\n",
      "43\n",
      "46\n",
      "49\n",
      "52\n",
      "55\n",
      "40\n",
      "46\n",
      "52\n",
      "58\n",
      "64\n",
      "48\n",
      "51\n",
      "54\n",
      "57\n",
      "60\n",
      "63\n",
      "66\n",
      "69\n"
     ]
    }
   ],
   "source": [
    "file_handle = open('2019/marks.csv', encoding='utf-8', mode='r') # read mode \n",
    "for line in file_handle:\n",
    "    if line.startswith('#'):\n",
    "        continue \n",
    "    student_marks = [int(n) for n in line.split()]\n",
    "    print(sum(student_marks))\n",
    "file_handle.close()"
   ]
  },
  {
   "cell_type": "code",
   "execution_count": 17,
   "metadata": {},
   "outputs": [],
   "source": [
    "file_handle = open('2019/marks.csv', encoding='utf-8', mode='r') # read mode \n",
    "outfile = open('marks_sum.csv', encoding='utf-8', mode='w') # read mode \n",
    "for line in file_handle:\n",
    "    if line.startswith('#'):\n",
    "        continue \n",
    "    student_marks = [int(n) for n in line.split()]\n",
    "    outfile.write('{}\\n'.format(sum(student_marks)))\n",
    "file_handle.close()\n",
    "outfile.close()"
   ]
  },
  {
   "cell_type": "code",
   "execution_count": 18,
   "metadata": {},
   "outputs": [],
   "source": [
    "file_handle = open('2019/marks.csv', encoding='utf-8', mode='r') # read mode \n",
    "outfile = open('all_marks.csv', encoding='utf-8', mode='w') # read mode \n",
    "for line in file_handle:\n",
    "    if line.startswith('#'):\n",
    "        continue \n",
    "    student_marks = [int(n) for n in line.split()]\n",
    "    outfile.write('{}\\t{}\\t{}\\t{}\\n'.format(student_marks[0], student_marks[1], \n",
    "                                            student_marks[2], sum(student_marks)))\n",
    "file_handle.close()\n",
    "outfile.close()"
   ]
  },
  {
   "cell_type": "markdown",
   "metadata": {},
   "source": [
    "## write a program to print numbers that has the same sign with their left and right neighbors\n",
    "\n",
    "اكتب برنامج لطباعة الاراقم من قائمة بحيث يكون الرقم له نفس الاشارة مع جاره على اليمين وعلى اليسار "
   ]
  },
  {
   "cell_type": "code",
   "execution_count": 19,
   "metadata": {},
   "outputs": [],
   "source": [
    "l3 = [3, -1, -2, -16, 20, -4, 80]"
   ]
  }
 ],
 "metadata": {
  "kernelspec": {
   "display_name": "Python 3",
   "language": "python",
   "name": "python3"
  },
  "language_info": {
   "codemirror_mode": {
    "name": "ipython",
    "version": 3
   },
   "file_extension": ".py",
   "mimetype": "text/x-python",
   "name": "python",
   "nbconvert_exporter": "python",
   "pygments_lexer": "ipython3",
   "version": "3.8.1"
  }
 },
 "nbformat": 4,
 "nbformat_minor": 4
}
