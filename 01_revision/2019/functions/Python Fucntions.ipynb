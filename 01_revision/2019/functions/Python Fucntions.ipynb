{
 "cells": [
  {
   "cell_type": "markdown",
   "metadata": {},
   "source": [
    "# Python Functions \n",
    "A fucntion is a reusable block of code (write once, call many times) \n",
    "\n",
    "\n",
    "## function advantages\n",
    "1. Reuse code\n",
    "2. Simplify code\n",
    "\n",
    "## Funtion names \n",
    "* verb phrase for functions\n",
    "* def compute_sum(): # this is a good function name\n",
    "* def car_speed(): # this is a bad function name\n",
    "* def get_car_speed(): # this is a good function name\n",
    "* def increase_car_speed(): # this is a good function name"
   ]
  },
  {
   "cell_type": "code",
   "execution_count": null,
   "metadata": {},
   "outputs": [],
   "source": [
    "# Synatax \n",
    "def f1(p1, p2): # define function (lines 2-4)\n",
    "    # my code \n",
    "    pass # empty statement \n",
    "\n",
    "\n",
    "f1(3, 4) # call "
   ]
  },
  {
   "cell_type": "markdown",
   "metadata": {},
   "source": [
    "# Bad practice: I/O inside the function\n",
    "This is a restriction. You force me to provide the input in the CLI, and the function provides the result on the CLI"
   ]
  },
  {
   "cell_type": "code",
   "execution_count": 1,
   "metadata": {},
   "outputs": [],
   "source": [
    "def say_hello():\n",
    "    name = input('enter a name: ')\n",
    "    print('hello ' + name)"
   ]
  },
  {
   "cell_type": "code",
   "execution_count": 2,
   "metadata": {},
   "outputs": [
    {
     "name": "stdout",
     "output_type": "stream",
     "text": [
      "enter a name: Ahmed\n",
      "hello Ahmed\n"
     ]
    }
   ],
   "source": [
    "# call the function\n",
    "say_hello()"
   ]
  },
  {
   "cell_type": "markdown",
   "metadata": {},
   "source": [
    "# Best practice (input and output are outside the function)\n",
    "\n",
    "This is not only for python, this paractice is good for all programming language "
   ]
  },
  {
   "cell_type": "code",
   "execution_count": 3,
   "metadata": {},
   "outputs": [],
   "source": [
    "# best practice (input and output are outside the function)\n",
    "def add(x, y):\n",
    "    return x + y"
   ]
  },
  {
   "cell_type": "code",
   "execution_count": 4,
   "metadata": {},
   "outputs": [
    {
     "name": "stdout",
     "output_type": "stream",
     "text": [
      "7\n"
     ]
    }
   ],
   "source": [
    "print(add(3, 4))  # call and print result"
   ]
  },
  {
   "cell_type": "code",
   "execution_count": 5,
   "metadata": {},
   "outputs": [
    {
     "name": "stdout",
     "output_type": "stream",
     "text": [
      "9\n"
     ]
    }
   ],
   "source": [
    "print(add(2, 7))  # call and print result"
   ]
  },
  {
   "cell_type": "code",
   "execution_count": 6,
   "metadata": {},
   "outputs": [
    {
     "name": "stdout",
     "output_type": "stream",
     "text": [
      "16\n"
     ]
    }
   ],
   "source": [
    "result = add(10, 3)  # call store results in a variable\n",
    "result += 3  # flexibility\n",
    "print(result)"
   ]
  },
  {
   "cell_type": "code",
   "execution_count": 7,
   "metadata": {},
   "outputs": [],
   "source": [
    "# best practice (input and output are outside the function)\n",
    "def say_hello(name):\n",
    "    msg = 'hello ' + name\n",
    "    msg += '\\nwelcome to python II'\n",
    "    return msg"
   ]
  },
  {
   "cell_type": "code",
   "execution_count": 8,
   "metadata": {},
   "outputs": [
    {
     "name": "stdout",
     "output_type": "stream",
     "text": [
      "hello Ahmed\n",
      "welcome to python II\n"
     ]
    }
   ],
   "source": [
    "print(say_hello('Ahmed'))"
   ]
  },
  {
   "cell_type": "code",
   "execution_count": 9,
   "metadata": {},
   "outputs": [
    {
     "name": "stdout",
     "output_type": "stream",
     "text": [
      "enter a name: Ali\n",
      "hello Ali\n",
      "welcome to python II\n",
      "python is cool\n"
     ]
    }
   ],
   "source": [
    "name1 = input('enter a name: ')\n",
    "result = say_hello(name1)\n",
    "result += '\\npython is cool'\n",
    "print(result)"
   ]
  }
 ],
 "metadata": {
  "kernelspec": {
   "display_name": "Python 3",
   "language": "python",
   "name": "python3"
  },
  "language_info": {
   "codemirror_mode": {
    "name": "ipython",
    "version": 3
   },
   "file_extension": ".py",
   "mimetype": "text/x-python",
   "name": "python",
   "nbconvert_exporter": "python",
   "pygments_lexer": "ipython3",
   "version": "3.7.0"
  }
 },
 "nbformat": 4,
 "nbformat_minor": 2
}
