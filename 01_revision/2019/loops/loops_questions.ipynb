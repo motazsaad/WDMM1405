{
 "cells": [
  {
   "cell_type": "markdown",
   "metadata": {},
   "source": [
    "# Questions on loops"
   ]
  },
  {
   "cell_type": "code",
   "execution_count": 1,
   "metadata": {},
   "outputs": [],
   "source": [
    "# the list\n",
    "l1 = [1, 3, 4, 7, 3, 9, 3]"
   ]
  },
  {
   "cell_type": "markdown",
   "metadata": {},
   "source": [
    "# change all 3s to 13"
   ]
  },
  {
   "cell_type": "code",
   "execution_count": 2,
   "metadata": {},
   "outputs": [
    {
     "name": "stdout",
     "output_type": "stream",
     "text": [
      "before [1, 3, 4, 7, 3, 9, 3]\n",
      "after [1, 13, 4, 7, 13, 9, 13]\n"
     ]
    }
   ],
   "source": [
    "print('before', l1)\n",
    "for i in range(len(l1)):\n",
    "    if l1[i] == 3:\n",
    "        l1[i] = 13\n",
    "print('after', l1)"
   ]
  },
  {
   "cell_type": "markdown",
   "metadata": {},
   "source": [
    "# add 2 for every elements that is larger than 5 "
   ]
  },
  {
   "cell_type": "code",
   "execution_count": 3,
   "metadata": {},
   "outputs": [
    {
     "name": "stdout",
     "output_type": "stream",
     "text": [
      "before [1, 13, 4, 7, 13, 9, 13]\n",
      "after [1, 15, 4, 9, 15, 11, 15]\n"
     ]
    }
   ],
   "source": [
    "print('before', l1)\n",
    "for i in range(len(l1)):\n",
    "    if l1[i] > 5:\n",
    "        l1[i] += 2\n",
    "print('after', l1)"
   ]
  },
  {
   "cell_type": "markdown",
   "metadata": {},
   "source": [
    "# find the position of the value 9 in the list"
   ]
  },
  {
   "cell_type": "code",
   "execution_count": 9,
   "metadata": {},
   "outputs": [
    {
     "name": "stdout",
     "output_type": "stream",
     "text": [
      "3\n"
     ]
    }
   ],
   "source": [
    "for i in range(len(l1)):\n",
    "    if l1[i] == 9:\n",
    "        print(i)"
   ]
  },
  {
   "cell_type": "markdown",
   "metadata": {},
   "source": [
    "# find the position of the value 13 in the list"
   ]
  },
  {
   "cell_type": "code",
   "execution_count": 11,
   "metadata": {},
   "outputs": [
    {
     "name": "stdout",
     "output_type": "stream",
     "text": [
      "1\n",
      "4\n",
      "6\n"
     ]
    }
   ],
   "source": [
    "for i in range(len(l1)):\n",
    "    if l1[i] == 15:\n",
    "        print(i)"
   ]
  },
  {
   "cell_type": "markdown",
   "metadata": {},
   "source": [
    "# find the average with using functions"
   ]
  },
  {
   "cell_type": "code",
   "execution_count": 5,
   "metadata": {},
   "outputs": [
    {
     "name": "stdout",
     "output_type": "stream",
     "text": [
      "average 10.0\n"
     ]
    }
   ],
   "source": [
    "total = 0\n",
    "count = 0\n",
    "for n in l1:  # iteration variable, no need for the index\n",
    "    total += n\n",
    "    count += 1\n",
    "print('average', total / count)"
   ]
  },
  {
   "cell_type": "markdown",
   "metadata": {},
   "source": [
    "# search for a number"
   ]
  },
  {
   "cell_type": "code",
   "execution_count": 12,
   "metadata": {},
   "outputs": [
    {
     "name": "stdout",
     "output_type": "stream",
     "text": [
      "[1, 15, 4, 9, 15, 11, 15]\n"
     ]
    },
    {
     "name": "stdin",
     "output_type": "stream",
     "text": [
      "enter a number:  11\n"
     ]
    },
    {
     "name": "stdout",
     "output_type": "stream",
     "text": [
      "5\n",
      "done\n"
     ]
    }
   ],
   "source": [
    "print(l1)\n",
    "key = int(input('enter a number: '))\n",
    "for i in range(len(l1)):\n",
    "    if l1[i] == key:\n",
    "        print(i)\n",
    "        break\n",
    "print('done')"
   ]
  },
  {
   "cell_type": "markdown",
   "metadata": {},
   "source": [
    "# find the max value"
   ]
  },
  {
   "cell_type": "code",
   "execution_count": 8,
   "metadata": {},
   "outputs": [
    {
     "name": "stdout",
     "output_type": "stream",
     "text": [
      "[1, 15, 4, 9, 15, 11, 15]\n",
      "max: 15\n"
     ]
    }
   ],
   "source": [
    "print(l1)\n",
    "max = l1[0]\n",
    "for i in range(len(l1)):\n",
    "    if l1[i] > max:\n",
    "        max = l1[i]\n",
    "print('max:', max)"
   ]
  },
  {
   "cell_type": "markdown",
   "metadata": {},
   "source": [
    "# Find the sum "
   ]
  },
  {
   "cell_type": "code",
   "execution_count": 10,
   "metadata": {},
   "outputs": [
    {
     "name": "stdout",
     "output_type": "stream",
     "text": [
      "total= 70\n"
     ]
    }
   ],
   "source": [
    "total = 0\n",
    "for n in l1:  # no need for index\n",
    "    total += n\n",
    "print('total=', total)"
   ]
  },
  {
   "cell_type": "code",
   "execution_count": null,
   "metadata": {},
   "outputs": [],
   "source": []
  }
 ],
 "metadata": {
  "kernelspec": {
   "display_name": "Python 3",
   "language": "python",
   "name": "python3"
  },
  "language_info": {
   "codemirror_mode": {
    "name": "ipython",
    "version": 3
   },
   "file_extension": ".py",
   "mimetype": "text/x-python",
   "name": "python",
   "nbconvert_exporter": "python",
   "pygments_lexer": "ipython3",
   "version": "3.7.0"
  }
 },
 "nbformat": 4,
 "nbformat_minor": 2
}
