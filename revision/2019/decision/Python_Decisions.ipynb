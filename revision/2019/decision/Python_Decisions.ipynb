{
 "cells": [
  {
   "cell_type": "markdown",
   "metadata": {},
   "source": [
    "# Python Decisions"
   ]
  },
  {
   "cell_type": "markdown",
   "metadata": {},
   "source": [
    "# One way decision (if without else)"
   ]
  },
  {
   "cell_type": "code",
   "execution_count": 1,
   "metadata": {},
   "outputs": [
    {
     "name": "stdout",
     "output_type": "stream",
     "text": [
      "big\n",
      "it is big\n",
      "done\n"
     ]
    }
   ],
   "source": [
    "x = 25\n",
    "if x > 10:\n",
    "    print('big')\n",
    "    print('it is big')\n",
    "print('done')"
   ]
  },
  {
   "cell_type": "code",
   "execution_count": 2,
   "metadata": {},
   "outputs": [
    {
     "name": "stdout",
     "output_type": "stream",
     "text": [
      "done\n"
     ]
    }
   ],
   "source": [
    "x = 2\n",
    "if x > 10:\n",
    "    print('big')\n",
    "    print('it is big')\n",
    "print('done')"
   ]
  },
  {
   "cell_type": "code",
   "execution_count": 2,
   "metadata": {},
   "outputs": [
    {
     "name": "stdout",
     "output_type": "stream",
     "text": [
      "small\n",
      "it is small\n",
      "I am at line 5\n",
      "done\n"
     ]
    }
   ],
   "source": [
    "x = 2\n",
    "if x < 10:\n",
    "    print('small')\n",
    "    print('it is small')\n",
    "print('I am at line 5')\n",
    "if x > 20:\n",
    "    print('big')\n",
    "    print('it is big')\n",
    "print('done')"
   ]
  },
  {
   "cell_type": "markdown",
   "metadata": {},
   "source": [
    "# Two ways decision (if-else) "
   ]
  },
  {
   "cell_type": "code",
   "execution_count": 3,
   "metadata": {},
   "outputs": [
    {
     "name": "stdout",
     "output_type": "stream",
     "text": [
      "big\n",
      "it is big\n",
      "done\n"
     ]
    }
   ],
   "source": [
    "x = 25\n",
    "if x > 10:\n",
    "    print('big')\n",
    "    print('it is big')\n",
    "else:  # x <=10\n",
    "    print('small')\n",
    "    print('it is small')\n",
    "print('done')"
   ]
  },
  {
   "cell_type": "code",
   "execution_count": 4,
   "metadata": {},
   "outputs": [
    {
     "name": "stdout",
     "output_type": "stream",
     "text": [
      "small\n",
      "it is small\n",
      "done\n"
     ]
    }
   ],
   "source": [
    "x = 7\n",
    "if x > 10:\n",
    "    print('big')\n",
    "    print('it is big')\n",
    "else:  # x <=10\n",
    "    print('small')\n",
    "    print('it is small')\n",
    "print('done')"
   ]
  },
  {
   "cell_type": "markdown",
   "metadata": {},
   "source": [
    "# Multi-ways decisions (if - elif - else)"
   ]
  },
  {
   "cell_type": "code",
   "execution_count": 5,
   "metadata": {},
   "outputs": [
    {
     "name": "stdout",
     "output_type": "stream",
     "text": [
      "big\n",
      "it is big number\n",
      "done\n"
     ]
    }
   ],
   "source": [
    "x = 15\n",
    "if x > 10:\n",
    "    print('big')\n",
    "    print('it is big number')\n",
    "elif x < 5:  # x <= 10\n",
    "    print('small')\n",
    "    print('it is small')\n",
    "else:\n",
    "    print('between 5 and 10')\n",
    "print('done')"
   ]
  },
  {
   "cell_type": "code",
   "execution_count": 7,
   "metadata": {},
   "outputs": [
    {
     "name": "stdout",
     "output_type": "stream",
     "text": [
      "big\n",
      "it is big number\n",
      "done\n"
     ]
    }
   ],
   "source": [
    "# the same code \n",
    "x = 15\n",
    "if x > 10:\n",
    "    print('big')\n",
    "    print('it is big number')\n",
    "else:\n",
    "    if x < 5:  # x <= 10\n",
    "        print('small')\n",
    "        print('it is small')\n",
    "    else:\n",
    "        print('between 5 and 10')\n",
    "print('done')"
   ]
  },
  {
   "cell_type": "code",
   "execution_count": 6,
   "metadata": {},
   "outputs": [
    {
     "name": "stdout",
     "output_type": "stream",
     "text": [
      "between 5 and 10\n",
      "done\n"
     ]
    }
   ],
   "source": [
    "x = 7\n",
    "if x > 10:\n",
    "    print('big')\n",
    "    print('it is big number')\n",
    "elif x < 5:  # x <= 10\n",
    "    print('small')\n",
    "    print('it is small')\n",
    "else:\n",
    "    print('between 5 and 10')\n",
    "print('done')"
   ]
  },
  {
   "cell_type": "code",
   "execution_count": 7,
   "metadata": {},
   "outputs": [
    {
     "name": "stdout",
     "output_type": "stream",
     "text": [
      "small\n",
      "it is small\n",
      "done\n"
     ]
    }
   ],
   "source": [
    "x = 3\n",
    "if x > 10:\n",
    "    print('big')\n",
    "    print('it is big number')\n",
    "elif x < 5:  # x <= 10\n",
    "    print('small')\n",
    "    print('it is small')\n",
    "else:\n",
    "    print('between 5 and 10')\n",
    "print('done')"
   ]
  }
 ],
 "metadata": {
  "kernelspec": {
   "display_name": "Python 3",
   "language": "python",
   "name": "python3"
  },
  "language_info": {
   "codemirror_mode": {
    "name": "ipython",
    "version": 3
   },
   "file_extension": ".py",
   "mimetype": "text/x-python",
   "name": "python",
   "nbconvert_exporter": "python",
   "pygments_lexer": "ipython3",
   "version": "3.7.0"
  }
 },
 "nbformat": 4,
 "nbformat_minor": 2
}
