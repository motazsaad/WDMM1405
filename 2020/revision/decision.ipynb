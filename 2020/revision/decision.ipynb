{
 "cells": [
  {
   "cell_type": "markdown",
   "metadata": {},
   "source": [
    "# Python Decision \n",
    "\n",
    "1. one way decision : if \n",
    "2. two way decision : if-else \n",
    "3. muli way decision : if-elif-.......-else \n"
   ]
  },
  {
   "cell_type": "markdown",
   "metadata": {},
   "source": [
    "# one way decision : if"
   ]
  },
  {
   "cell_type": "code",
   "execution_count": 2,
   "metadata": {},
   "outputs": [
    {
     "name": "stdout",
     "output_type": "stream",
     "text": [
      "done\n"
     ]
    }
   ],
   "source": [
    "x = 10 \n",
    "if x > 15: \n",
    "    print('x is large')\n",
    "    print(x)\n",
    "print('done')"
   ]
  },
  {
   "cell_type": "code",
   "execution_count": 3,
   "metadata": {},
   "outputs": [
    {
     "name": "stdout",
     "output_type": "stream",
     "text": [
      "x is large\n",
      "20\n",
      "done\n"
     ]
    }
   ],
   "source": [
    "x = 20 \n",
    "if x > 15: \n",
    "    print('x is large')\n",
    "    print(x)\n",
    "print('done')"
   ]
  },
  {
   "cell_type": "markdown",
   "metadata": {},
   "source": [
    "# two way decision : if-else"
   ]
  },
  {
   "cell_type": "code",
   "execution_count": 4,
   "metadata": {},
   "outputs": [
    {
     "name": "stdout",
     "output_type": "stream",
     "text": [
      "x is large\n",
      "20\n",
      "done\n"
     ]
    }
   ],
   "source": [
    "x = 20 \n",
    "if x > 15: # true \n",
    "    print('x is large')\n",
    "    print(x)\n",
    "else: # false x <= 15 \n",
    "    print('x is small')\n",
    "    print('x is still small')\n",
    "print('done')"
   ]
  },
  {
   "cell_type": "code",
   "execution_count": 5,
   "metadata": {},
   "outputs": [
    {
     "name": "stdout",
     "output_type": "stream",
     "text": [
      "x is small\n",
      "x is still small\n",
      "done\n"
     ]
    }
   ],
   "source": [
    "x = 7 \n",
    "if x > 15: # true \n",
    "    print('x is large')\n",
    "    print(x)\n",
    "else: # false x <= 15 \n",
    "    print('x is small')\n",
    "    print('x is still small')\n",
    "print('done')"
   ]
  },
  {
   "cell_type": "markdown",
   "metadata": {},
   "source": [
    "# multi way decision : if-elif-.....-else "
   ]
  },
  {
   "cell_type": "code",
   "execution_count": 9,
   "metadata": {},
   "outputs": [
    {
     "name": "stdout",
     "output_type": "stream",
     "text": [
      "x is small\n",
      "done\n"
     ]
    }
   ],
   "source": [
    "x = 0 \n",
    "if x > 15: # true \n",
    "    print('x is large')\n",
    "    print(x)\n",
    "elif x > 7: # false x <= 15 and x > 7 \n",
    "    print('x is meduim')\n",
    "    print('between 7 and 15')\n",
    "else: # x <= 7 \n",
    "    print('x is small')\n",
    "print('done')"
   ]
  },
  {
   "cell_type": "code",
   "execution_count": 10,
   "metadata": {},
   "outputs": [
    {
     "name": "stdout",
     "output_type": "stream",
     "text": [
      "x is meduim\n",
      "between 7 and 15\n",
      "done\n"
     ]
    }
   ],
   "source": [
    "x = 9 \n",
    "if x > 15: # true \n",
    "    print('x is large')\n",
    "    print(x)\n",
    "elif x > 7: # false x <= 15 and x > 7 \n",
    "    print('x is meduim')\n",
    "    print('between 7 and 15')\n",
    "else: # x <= 7 \n",
    "    print('x is small')\n",
    "print('done')"
   ]
  },
  {
   "cell_type": "code",
   "execution_count": 11,
   "metadata": {},
   "outputs": [
    {
     "name": "stdout",
     "output_type": "stream",
     "text": [
      "x is large\n",
      "76\n",
      "done\n"
     ]
    }
   ],
   "source": [
    "x = 76 \n",
    "if x > 15: # true \n",
    "    print('x is large')\n",
    "    print(x)\n",
    "elif x > 7: # false x <= 15 and x > 7 \n",
    "    print('x is meduim')\n",
    "    print('between 7 and 15')\n",
    "else: # x <= 7 \n",
    "    print('x is small')\n",
    "print('done')"
   ]
  },
  {
   "cell_type": "code",
   "execution_count": null,
   "metadata": {},
   "outputs": [],
   "source": []
  }
 ],
 "metadata": {
  "kernelspec": {
   "display_name": "Python 3",
   "language": "python",
   "name": "python3"
  },
  "language_info": {
   "codemirror_mode": {
    "name": "ipython",
    "version": 3
   },
   "file_extension": ".py",
   "mimetype": "text/x-python",
   "name": "python",
   "nbconvert_exporter": "python",
   "pygments_lexer": "ipython3",
   "version": "3.8.1"
  }
 },
 "nbformat": 4,
 "nbformat_minor": 4
}
