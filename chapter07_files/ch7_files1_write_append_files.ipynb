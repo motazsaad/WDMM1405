{
 "cells": [
  {
   "cell_type": "markdown",
   "metadata": {},
   "source": [
    "# Write and append to files in Python "
   ]
  },
  {
   "cell_type": "code",
   "execution_count": 1,
   "metadata": {},
   "outputs": [
    {
     "name": "stdin",
     "output_type": "stream",
     "text": [
      "enter file name:  Ahmed_file.txt\n"
     ]
    },
    {
     "name": "stdout",
     "output_type": "stream",
     "text": [
      "Hello my name is \tAhmed \n",
      "I like python \n",
      "Python is cool \n",
      "\n"
     ]
    }
   ],
   "source": [
    "file_name = input('enter file name: ')\n",
    "file_handle = open(file_name, mode='r')\n",
    "text = file_handle.read()\n",
    "print(text)"
   ]
  },
  {
   "cell_type": "code",
   "execution_count": 2,
   "metadata": {},
   "outputs": [
    {
     "name": "stdin",
     "output_type": "stream",
     "text": [
      "enter file name:  file11111.txt\n"
     ]
    },
    {
     "ename": "FileNotFoundError",
     "evalue": "[Errno 2] No such file or directory: 'file11111.txt'",
     "output_type": "error",
     "traceback": [
      "\u001b[1;31m---------------------------------------------------------------------------\u001b[0m",
      "\u001b[1;31mFileNotFoundError\u001b[0m                         Traceback (most recent call last)",
      "\u001b[1;32m<ipython-input-2-715fb7b7989c>\u001b[0m in \u001b[0;36m<module>\u001b[1;34m\u001b[0m\n\u001b[0;32m      1\u001b[0m \u001b[0mfile_name\u001b[0m \u001b[1;33m=\u001b[0m \u001b[0minput\u001b[0m\u001b[1;33m(\u001b[0m\u001b[1;34m'enter file name: '\u001b[0m\u001b[1;33m)\u001b[0m\u001b[1;33m\u001b[0m\u001b[1;33m\u001b[0m\u001b[0m\n\u001b[1;32m----> 2\u001b[1;33m \u001b[0mfile_handle\u001b[0m \u001b[1;33m=\u001b[0m \u001b[0mopen\u001b[0m\u001b[1;33m(\u001b[0m\u001b[0mfile_name\u001b[0m\u001b[1;33m,\u001b[0m \u001b[0mmode\u001b[0m\u001b[1;33m=\u001b[0m\u001b[1;34m'r'\u001b[0m\u001b[1;33m)\u001b[0m\u001b[1;33m\u001b[0m\u001b[1;33m\u001b[0m\u001b[0m\n\u001b[0m\u001b[0;32m      3\u001b[0m \u001b[0mtext\u001b[0m \u001b[1;33m=\u001b[0m \u001b[0mfile_handle\u001b[0m\u001b[1;33m.\u001b[0m\u001b[0mread\u001b[0m\u001b[1;33m(\u001b[0m\u001b[1;33m)\u001b[0m\u001b[1;33m\u001b[0m\u001b[1;33m\u001b[0m\u001b[0m\n\u001b[0;32m      4\u001b[0m \u001b[0mprint\u001b[0m\u001b[1;33m(\u001b[0m\u001b[0mtext\u001b[0m\u001b[1;33m)\u001b[0m\u001b[1;33m\u001b[0m\u001b[1;33m\u001b[0m\u001b[0m\n",
      "\u001b[1;31mFileNotFoundError\u001b[0m: [Errno 2] No such file or directory: 'file11111.txt'"
     ]
    }
   ],
   "source": [
    "file_name = input('enter file name: ')\n",
    "file_handle = open(file_name, mode='r')\n",
    "text = file_handle.read()\n",
    "print(text)"
   ]
  },
  {
   "cell_type": "code",
   "execution_count": 3,
   "metadata": {},
   "outputs": [
    {
     "name": "stdin",
     "output_type": "stream",
     "text": [
      "enter file name:  file11111.txt\n"
     ]
    },
    {
     "name": "stdout",
     "output_type": "stream",
     "text": [
      "file not found!\n"
     ]
    }
   ],
   "source": [
    "try: \n",
    "    file_name = input('enter file name: ')\n",
    "    file_handle = open(file_name, mode='r')\n",
    "    text = file_handle.read()\n",
    "    print(text)\n",
    "except FileNotFoundError:\n",
    "    print('file not found!')"
   ]
  },
  {
   "cell_type": "markdown",
   "metadata": {},
   "source": [
    "# closing files "
   ]
  },
  {
   "cell_type": "code",
   "execution_count": 4,
   "metadata": {},
   "outputs": [
    {
     "name": "stdin",
     "output_type": "stream",
     "text": [
      "enter file name:  Ahmed_file.txt\n"
     ]
    },
    {
     "name": "stdout",
     "output_type": "stream",
     "text": [
      "Hello my name is \tAhmed \n",
      "I like python \n",
      "Python is cool \n",
      "\n"
     ]
    }
   ],
   "source": [
    "file_name = input('enter file name: ')\n",
    "file_handle = open(file_name, mode='r')\n",
    "text = file_handle.read()\n",
    "print(text)\n",
    "file_handle.close()"
   ]
  },
  {
   "cell_type": "markdown",
   "metadata": {},
   "source": [
    "# write to files \n",
    "\n",
    "وضعية الكتابة تنشيء ملف فارغ ، واذا كان الملف موجود يتم الكتابة عليه ، بمعنى يفقد المحتوى القديم "
   ]
  },
  {
   "cell_type": "code",
   "execution_count": 9,
   "metadata": {},
   "outputs": [],
   "source": [
    "file_handle = open('test101.txt', mode='w')\n",
    "file_handle.write('hello\\n')\n",
    "file_handle.write('welcome to python')\n",
    "file_handle.close()"
   ]
  },
  {
   "cell_type": "markdown",
   "metadata": {},
   "source": [
    "# اكتب برنامج لكتابة الارقام من 1 الى 100 على ملف "
   ]
  },
  {
   "cell_type": "code",
   "execution_count": 10,
   "metadata": {},
   "outputs": [
    {
     "ename": "TypeError",
     "evalue": "write() argument must be str, not int",
     "output_type": "error",
     "traceback": [
      "\u001b[1;31m---------------------------------------------------------------------------\u001b[0m",
      "\u001b[1;31mTypeError\u001b[0m                                 Traceback (most recent call last)",
      "\u001b[1;32m<ipython-input-10-20a2d593afb3>\u001b[0m in \u001b[0;36m<module>\u001b[1;34m\u001b[0m\n\u001b[0;32m      1\u001b[0m \u001b[0moutfile\u001b[0m \u001b[1;33m=\u001b[0m \u001b[0mopen\u001b[0m\u001b[1;33m(\u001b[0m\u001b[1;34m'numbers1-100.txt'\u001b[0m\u001b[1;33m,\u001b[0m \u001b[1;34m'w'\u001b[0m\u001b[1;33m)\u001b[0m\u001b[1;33m\u001b[0m\u001b[1;33m\u001b[0m\u001b[0m\n\u001b[0;32m      2\u001b[0m \u001b[1;32mfor\u001b[0m \u001b[0mi\u001b[0m \u001b[1;32min\u001b[0m \u001b[0mrange\u001b[0m\u001b[1;33m(\u001b[0m\u001b[1;36m1\u001b[0m\u001b[1;33m,\u001b[0m \u001b[1;36m101\u001b[0m\u001b[1;33m)\u001b[0m\u001b[1;33m:\u001b[0m\u001b[1;33m\u001b[0m\u001b[1;33m\u001b[0m\u001b[0m\n\u001b[1;32m----> 3\u001b[1;33m     \u001b[0moutfile\u001b[0m\u001b[1;33m.\u001b[0m\u001b[0mwrite\u001b[0m\u001b[1;33m(\u001b[0m\u001b[0mi\u001b[0m\u001b[1;33m)\u001b[0m\u001b[1;33m\u001b[0m\u001b[1;33m\u001b[0m\u001b[0m\n\u001b[0m\u001b[0;32m      4\u001b[0m \u001b[0moutfile\u001b[0m\u001b[1;33m.\u001b[0m\u001b[0mclose\u001b[0m\u001b[1;33m(\u001b[0m\u001b[1;33m)\u001b[0m\u001b[1;33m\u001b[0m\u001b[1;33m\u001b[0m\u001b[0m\n",
      "\u001b[1;31mTypeError\u001b[0m: write() argument must be str, not int"
     ]
    }
   ],
   "source": [
    "outfile = open('numbers1-100.txt', 'w')\n",
    "for i in range(1, 101):\n",
    "    outfile.write(i)\n",
    "outfile.close()"
   ]
  },
  {
   "cell_type": "code",
   "execution_count": 11,
   "metadata": {},
   "outputs": [],
   "source": [
    "outfile = open('numbers1-100.txt', 'w')\n",
    "for i in range(1, 101):\n",
    "    outfile.write(str(i))\n",
    "outfile.close()"
   ]
  },
  {
   "cell_type": "code",
   "execution_count": 12,
   "metadata": {},
   "outputs": [],
   "source": [
    "outfile = open('numbers1-100_v2.txt', 'w')\n",
    "for i in range(1, 101):\n",
    "    outfile.write(str(i) + '\\n')\n",
    "outfile.close()"
   ]
  },
  {
   "cell_type": "code",
   "execution_count": 13,
   "metadata": {},
   "outputs": [],
   "source": [
    "# write numbers 1-100 in list form \n",
    "outfile = open('numbers1-100_v3.txt', 'w')\n",
    "outfile.write('[')\n",
    "for i in range(1, 101):\n",
    "    outfile.write(str(i) + ', ')\n",
    "outfile.write(']')\n",
    "outfile.close()"
   ]
  },
  {
   "cell_type": "markdown",
   "metadata": {},
   "source": [
    "# اكتب برنامج لقراءة ارقام من ملف واطبع المجموع "
   ]
  },
  {
   "cell_type": "code",
   "execution_count": 14,
   "metadata": {},
   "outputs": [
    {
     "data": {
      "text/plain": [
       "['23', '87', '56', '11', '8', '6', '144']"
      ]
     },
     "execution_count": 14,
     "metadata": {},
     "output_type": "execute_result"
    }
   ],
   "source": [
    "infile = open('mynumbers1.txt')\n",
    "total = 0 \n",
    "text = infile.read()\n",
    "numbers = text.split()\n",
    "numbers"
   ]
  },
  {
   "cell_type": "code",
   "execution_count": 15,
   "metadata": {},
   "outputs": [
    {
     "data": {
      "text/plain": [
       "335"
      ]
     },
     "execution_count": 15,
     "metadata": {},
     "output_type": "execute_result"
    }
   ],
   "source": [
    "for number in numbers:\n",
    "    total += int(number)\n",
    "total"
   ]
  },
  {
   "cell_type": "code",
   "execution_count": 16,
   "metadata": {},
   "outputs": [
    {
     "data": {
      "text/plain": [
       "['23', '87', '56', '11', '8', '6', '144']"
      ]
     },
     "execution_count": 16,
     "metadata": {},
     "output_type": "execute_result"
    }
   ],
   "source": [
    "infile = open('mynumbers2.txt')\n",
    "total = 0 \n",
    "text = infile.read()\n",
    "numbers = text.split()\n",
    "numbers"
   ]
  },
  {
   "cell_type": "code",
   "execution_count": 17,
   "metadata": {},
   "outputs": [
    {
     "data": {
      "text/plain": [
       "['23 ', '87', '56', '11', '8 ', '6', '144']"
      ]
     },
     "execution_count": 17,
     "metadata": {},
     "output_type": "execute_result"
    }
   ],
   "source": [
    "infile = open('mynumbers2.txt')\n",
    "total = 0 \n",
    "text = infile.read()\n",
    "numbers = text.split('\\n')\n",
    "numbers"
   ]
  },
  {
   "cell_type": "code",
   "execution_count": 20,
   "metadata": {},
   "outputs": [
    {
     "data": {
      "text/plain": [
       "335"
      ]
     },
     "execution_count": 20,
     "metadata": {},
     "output_type": "execute_result"
    }
   ],
   "source": [
    "infile = open('mynumbers2.txt')\n",
    "total = 0 \n",
    "for line in infile:\n",
    "    total += int(line.strip())\n",
    "total"
   ]
  },
  {
   "cell_type": "markdown",
   "metadata": {},
   "source": [
    "# اكتب برنامج لاستخراج عناوين البريد الالكتروني من ملف وكتابتها على ملف اخر "
   ]
  },
  {
   "cell_type": "code",
   "execution_count": 26,
   "metadata": {},
   "outputs": [
    {
     "name": "stdout",
     "output_type": "stream",
     "text": [
      "stephen.marquard@uct.ac.za\n",
      "louis@media.berkeley.edu\n",
      "zqian@umich.edu\n",
      "rjlowe@iupui.edu\n",
      "zqian@umich.edu\n",
      "rjlowe@iupui.edu\n",
      "cwen@iupui.edu\n",
      "cwen@iupui.edu\n",
      "gsilver@umich.edu\n",
      "gsilver@umich.edu\n",
      "zqian@umich.edu\n",
      "gsilver@umich.edu\n",
      "wagnermr@iupui.edu\n",
      "zqian@umich.edu\n",
      "antranig@caret.cam.ac.uk\n",
      "gopal.ramasammycook@gmail.com\n",
      "david.horwitz@uct.ac.za\n",
      "david.horwitz@uct.ac.za\n",
      "david.horwitz@uct.ac.za\n",
      "david.horwitz@uct.ac.za\n",
      "stephen.marquard@uct.ac.za\n",
      "louis@media.berkeley.edu\n",
      "louis@media.berkeley.edu\n",
      "ray@media.berkeley.edu\n",
      "cwen@iupui.edu\n",
      "cwen@iupui.edu\n",
      "cwen@iupui.edu\n"
     ]
    }
   ],
   "source": [
    "infile = open('../files/mbox-short.txt')\n",
    "text = infile.read()\n",
    "lines = text.split('\\n')\n",
    "for line in lines:\n",
    "    if line.startswith('From:'):\n",
    "        print(line.split()[1])"
   ]
  },
  {
   "cell_type": "code",
   "execution_count": 29,
   "metadata": {},
   "outputs": [
    {
     "name": "stdout",
     "output_type": "stream",
     "text": [
      " stephen.marquard@uct.ac.za\n",
      " louis@media.berkeley.edu\n",
      " zqian@umich.edu\n",
      " rjlowe@iupui.edu\n",
      " zqian@umich.edu\n",
      " rjlowe@iupui.edu\n",
      " cwen@iupui.edu\n",
      " cwen@iupui.edu\n",
      " gsilver@umich.edu\n",
      " gsilver@umich.edu\n",
      " zqian@umich.edu\n",
      " gsilver@umich.edu\n",
      " wagnermr@iupui.edu\n",
      " zqian@umich.edu\n",
      " antranig@caret.cam.ac.uk\n",
      " gopal.ramasammycook@gmail.com\n",
      " david.horwitz@uct.ac.za\n",
      " david.horwitz@uct.ac.za\n",
      " david.horwitz@uct.ac.za\n",
      " david.horwitz@uct.ac.za\n",
      " stephen.marquard@uct.ac.za\n",
      " louis@media.berkeley.edu\n",
      " louis@media.berkeley.edu\n",
      " ray@media.berkeley.edu\n",
      " cwen@iupui.edu\n",
      " cwen@iupui.edu\n",
      " cwen@iupui.edu\n"
     ]
    }
   ],
   "source": [
    "infile = open('../files/mbox-short.txt')\n",
    "text = infile.read()\n",
    "lines = text.split('\\n')\n",
    "for line in lines:\n",
    "    if line.startswith('From:'):\n",
    "        print(line.replace('From:', ''))"
   ]
  },
  {
   "cell_type": "code",
   "execution_count": 31,
   "metadata": {},
   "outputs": [],
   "source": [
    "infile = open('../files/mbox.txt')\n",
    "outfile = open('emails101.txt', mode='w')\n",
    "text = infile.read()\n",
    "lines = text.split('\\n')\n",
    "for line in lines:\n",
    "    if line.startswith('From:'):\n",
    "        outfile.write(line.split()[1] + '\\n')\n",
    "infile.close()\n",
    "outfile.close()"
   ]
  },
  {
   "cell_type": "markdown",
   "metadata": {},
   "source": [
    "# اكتب برنامج لقراءة ملف وتحويل النص الى احرف كبيرة وكتابة النص على ملف اخر "
   ]
  },
  {
   "cell_type": "code",
   "execution_count": 2,
   "metadata": {},
   "outputs": [
    {
     "name": "stdout",
     "output_type": "stream",
     "text": [
      "LIGHT RICE KHEER RECIPE\n",
      "Wash the rice well and soak for half an hour in enough water to fully cover it.\n",
      "In a medium saucepan combine water and washed rice and bring to a boil, reduce heat, cover and simmer until rice is soft, about 25 minutes.\n",
      "Add fat-free Sweetened Condensed Milk and stir over medium-low heat for 30 minutes or until thickens. Add the cashew nuts, raisins, and cardamom powder, and cook for few more minutes. Remove from heat and allow to cool before serving\n",
      "\n"
     ]
    }
   ],
   "source": [
    "infile = open('../files/recipe.txt')\n",
    "text = infile.read()\n",
    "print(text)"
   ]
  },
  {
   "cell_type": "code",
   "execution_count": 3,
   "metadata": {},
   "outputs": [
    {
     "name": "stdout",
     "output_type": "stream",
     "text": [
      "LIGHT RICE KHEER RECIPE\n",
      "WASH THE RICE WELL AND SOAK FOR HALF AN HOUR IN ENOUGH WATER TO FULLY COVER IT.\n",
      "IN A MEDIUM SAUCEPAN COMBINE WATER AND WASHED RICE AND BRING TO A BOIL, REDUCE HEAT, COVER AND SIMMER UNTIL RICE IS SOFT, ABOUT 25 MINUTES.\n",
      "ADD FAT-FREE SWEETENED CONDENSED MILK AND STIR OVER MEDIUM-LOW HEAT FOR 30 MINUTES OR UNTIL THICKENS. ADD THE CASHEW NUTS, RAISINS, AND CARDAMOM POWDER, AND COOK FOR FEW MORE MINUTES. REMOVE FROM HEAT AND ALLOW TO COOL BEFORE SERVING\n",
      "\n"
     ]
    }
   ],
   "source": [
    "large_text = text.upper()\n",
    "print(large_text)"
   ]
  },
  {
   "cell_type": "code",
   "execution_count": 4,
   "metadata": {},
   "outputs": [
    {
     "data": {
      "text/plain": [
       "'LIGHT RICE KHEER RECIPE\\nWASH THE RICE WELL AND SOAK FOR HALF AN HOUR IN ENOUGH WATER TO FULLY COVER IT.\\nIN A MEDIUM SAUCEPAN COMBINE WATER AND WASHED RICE AND BRING TO A BOIL, REDUCE HEAT, COVER AND SIMMER UNTIL RICE IS SOFT, ABOUT 25 MINUTES.\\nADD FAT-FREE SWEETENED CONDENSED MILK AND STIR OVER MEDIUM-LOW HEAT FOR 30 MINUTES OR UNTIL THICKENS. ADD THE CASHEW NUTS, RAISINS, AND CARDAMOM POWDER, AND COOK FOR FEW MORE MINUTES. REMOVE FROM HEAT AND ALLOW TO COOL BEFORE SERVING\\n'"
      ]
     },
     "execution_count": 4,
     "metadata": {},
     "output_type": "execute_result"
    }
   ],
   "source": [
    "large_text"
   ]
  },
  {
   "cell_type": "code",
   "execution_count": 5,
   "metadata": {},
   "outputs": [],
   "source": [
    "outfile = open('../files/recipe_capital_letters.txt', mode='w')\n",
    "outfile.write(large_text)\n",
    "outfile.close()"
   ]
  },
  {
   "cell_type": "markdown",
   "metadata": {},
   "source": [
    "# اكتب برنامج لقراءة ارقام من ملف وكتابة المجموع والمتوسط على ملف اخر "
   ]
  },
  {
   "cell_type": "code",
   "execution_count": 6,
   "metadata": {},
   "outputs": [],
   "source": [
    "infile = open('mynumbers1.txt') \n",
    "numbers_str = infile.read().split()"
   ]
  },
  {
   "cell_type": "code",
   "execution_count": 8,
   "metadata": {},
   "outputs": [
    {
     "name": "stdout",
     "output_type": "stream",
     "text": [
      "['23', '87', '56', '11', '8', '6', '144', '12', '87', '90', '765', '12', '85', '233']\n"
     ]
    }
   ],
   "source": [
    "print(numbers_str)"
   ]
  },
  {
   "cell_type": "code",
   "execution_count": 11,
   "metadata": {},
   "outputs": [
    {
     "name": "stdout",
     "output_type": "stream",
     "text": [
      "total = 1619\taverage = 115.64285714285714\n"
     ]
    }
   ],
   "source": [
    "total = 0  \n",
    "for num in numbers_str:\n",
    "    total += int(num)\n",
    "avg = total / len(numbers_str) \n",
    "print('total = {}\\taverage = {}'.format(total, avg))"
   ]
  },
  {
   "cell_type": "code",
   "execution_count": 18,
   "metadata": {},
   "outputs": [],
   "source": [
    "outfile = open('mynumbers1_total_avg.txt', mode='w')\n",
    "outfile.write('total = {}\\taverage = {}\\n'.format(total, avg))\n",
    "outfile.write(str(total) + ' ' + str(avg) + '\\n')\n",
    "outfile.write('total = ' + str(total) + '\\tavgerage =' + str(avg))\n",
    "outfile.close()"
   ]
  },
  {
   "cell_type": "markdown",
   "metadata": {},
   "source": [
    "# Append mode \n",
    "* open file in read mode and write at the end of the file (file exist) \n",
    "* create empty file in read mode and write at the end of the file (file does not exist) \n"
   ]
  },
  {
   "cell_type": "code",
   "execution_count": 27,
   "metadata": {},
   "outputs": [],
   "source": [
    "file_handle = open('test_append101.txt', mode='a')\n",
    "file_handle.write('hello\\n')\n",
    "file_handle.close()"
   ]
  },
  {
   "cell_type": "code",
   "execution_count": 32,
   "metadata": {},
   "outputs": [],
   "source": [
    "file_handle = open('test_append102.txt', mode='a')\n",
    "file_handle.write('hello\\n')\n",
    "file_handle.close()"
   ]
  },
  {
   "cell_type": "code",
   "execution_count": 34,
   "metadata": {},
   "outputs": [],
   "source": [
    "file_handle = open('test_append102.txt', mode='a')\n",
    "file_handle.write('goodbye\\n')\n",
    "file_handle.close()"
   ]
  },
  {
   "cell_type": "markdown",
   "metadata": {},
   "source": [
    "# اكتب برنامج لقراءة ملف وصفة طبخ واضافة عبارة شهية طيبة في نهاية الملف "
   ]
  },
  {
   "cell_type": "code",
   "execution_count": 35,
   "metadata": {},
   "outputs": [],
   "source": [
    "file_handle = open('../files/recipe.txt', 'a')\n",
    "file_handle.write('\\nbot appetit\\n')\n",
    "file_handle.close()"
   ]
  },
  {
   "cell_type": "markdown",
   "metadata": {},
   "source": [
    "# file encoding "
   ]
  },
  {
   "cell_type": "code",
   "execution_count": 36,
   "metadata": {},
   "outputs": [
    {
     "data": {
      "text/plain": [
       "<_io.TextIOWrapper name='../files/recipe.txt' mode='r' encoding='cp1256'>"
      ]
     },
     "execution_count": 36,
     "metadata": {},
     "output_type": "execute_result"
    }
   ],
   "source": [
    "file_handle = open('../files/recipe.txt')\n",
    "file_handle"
   ]
  },
  {
   "cell_type": "code",
   "execution_count": 37,
   "metadata": {},
   "outputs": [],
   "source": [
    "file_handle = open('mulilang101.txt', mode='w')\n",
    "file_handle.write('hello\\n')\n",
    "file_handle.write('hola\\n')\n",
    "file_handle.write('مرحبا\\n')\n",
    "file_handle.close()"
   ]
  },
  {
   "cell_type": "code",
   "execution_count": 42,
   "metadata": {},
   "outputs": [
    {
     "name": "stdout",
     "output_type": "stream",
     "text": [
      "<_io.TextIOWrapper name='arabic_file.txt' mode='r' encoding='utf-8'>\n",
      "يرجى العلم لدى جميع الطلاب\n",
      "انه لن يجتازو مساق البرمجة بدون ممارسة\n",
      "في البرمجة يجب التركيز على المسألة وليس على ال syntax\n",
      "\n"
     ]
    }
   ],
   "source": [
    "file_handle = open('arabic_file.txt', encoding='utf-8')\n",
    "print(file_handle)\n",
    "print(file_handle.read())"
   ]
  },
  {
   "cell_type": "code",
   "execution_count": 43,
   "metadata": {},
   "outputs": [],
   "source": [
    "file_handle = open('mulilang102.txt', mode='w', encoding='utf-8')\n",
    "file_handle.write('hello\\n')\n",
    "file_handle.write('hola\\n')\n",
    "file_handle.write('مرحبا\\n')\n",
    "file_handle.close()"
   ]
  }
 ],
 "metadata": {
  "kernelspec": {
   "display_name": "Python 3",
   "language": "python",
   "name": "python3"
  },
  "language_info": {
   "codemirror_mode": {
    "name": "ipython",
    "version": 3
   },
   "file_extension": ".py",
   "mimetype": "text/x-python",
   "name": "python",
   "nbconvert_exporter": "python",
   "pygments_lexer": "ipython3",
   "version": "3.8.1"
  }
 },
 "nbformat": 4,
 "nbformat_minor": 4
}
