{
 "cells": [
  {
   "cell_type": "markdown",
   "metadata": {},
   "source": [
    "# Write and append to Files "
   ]
  },
  {
   "cell_type": "markdown",
   "metadata": {},
   "source": [
    "# اكتب برنامج قراءة نص وتحويله الى نص كبير وكتابة النتيجة على ملف مختلف "
   ]
  },
  {
   "cell_type": "code",
   "execution_count": 2,
   "metadata": {},
   "outputs": [
    {
     "data": {
      "text/plain": [
       "'LIGHT RICE KHEER RECIPE\\nWash the rice well and soak for half an hour in enough water to fully cover it.\\nIn a medium saucepan combine water and washed rice and bring to a boil, reduce heat, cover and simmer until rice is soft, about 25 minutes.\\nAdd fat-free Sweetened Condensed Milk and stir over medium-low heat for 30 minutes or until thickens. Add the cashew nuts, raisins, and cardamom powder, and cook for few more minutes. Remove from heat and allow to cool before serving\\n'"
      ]
     },
     "execution_count": 2,
     "metadata": {},
     "output_type": "execute_result"
    }
   ],
   "source": [
    "infile = open('../files/text.txt')\n",
    "text = infile.read()\n",
    "text"
   ]
  },
  {
   "cell_type": "code",
   "execution_count": 3,
   "metadata": {},
   "outputs": [
    {
     "name": "stdout",
     "output_type": "stream",
     "text": [
      "LIGHT RICE KHEER RECIPE\n",
      "Wash the rice well and soak for half an hour in enough water to fully cover it.\n",
      "In a medium saucepan combine water and washed rice and bring to a boil, reduce heat, cover and simmer until rice is soft, about 25 minutes.\n",
      "Add fat-free Sweetened Condensed Milk and stir over medium-low heat for 30 minutes or until thickens. Add the cashew nuts, raisins, and cardamom powder, and cook for few more minutes. Remove from heat and allow to cool before serving\n",
      "\n"
     ]
    }
   ],
   "source": [
    "print(text)"
   ]
  },
  {
   "cell_type": "code",
   "execution_count": 5,
   "metadata": {},
   "outputs": [
    {
     "name": "stdout",
     "output_type": "stream",
     "text": [
      "LIGHT RICE KHEER RECIPE\n",
      "WASH THE RICE WELL AND SOAK FOR HALF AN HOUR IN ENOUGH WATER TO FULLY COVER IT.\n",
      "IN A MEDIUM SAUCEPAN COMBINE WATER AND WASHED RICE AND BRING TO A BOIL, REDUCE HEAT, COVER AND SIMMER UNTIL RICE IS SOFT, ABOUT 25 MINUTES.\n",
      "ADD FAT-FREE SWEETENED CONDENSED MILK AND STIR OVER MEDIUM-LOW HEAT FOR 30 MINUTES OR UNTIL THICKENS. ADD THE CASHEW NUTS, RAISINS, AND CARDAMOM POWDER, AND COOK FOR FEW MORE MINUTES. REMOVE FROM HEAT AND ALLOW TO COOL BEFORE SERVING\n",
      "\n"
     ]
    }
   ],
   "source": [
    "capital_text = text.upper()\n",
    "print(capital_text)"
   ]
  },
  {
   "cell_type": "code",
   "execution_count": 6,
   "metadata": {},
   "outputs": [],
   "source": [
    "outfile = open('capitilized.txt', mode='w')\n",
    "outfile.write(capital_text)\n",
    "outfile.close()"
   ]
  },
  {
   "cell_type": "markdown",
   "metadata": {},
   "source": [
    "#  اكتب برنامج لقراءة ارقام من ملف كتابة المجموع والمتوسط على ملف آخر"
   ]
  },
  {
   "cell_type": "code",
   "execution_count": 8,
   "metadata": {},
   "outputs": [
    {
     "data": {
      "text/plain": [
       "['23', '87', '56', '11', '8', '6', '144']"
      ]
     },
     "execution_count": 8,
     "metadata": {},
     "output_type": "execute_result"
    }
   ],
   "source": [
    "file_reader = open('mynumbers1.txt')\n",
    "numbers_str = file_reader.read().split()\n",
    "numbers_str"
   ]
  },
  {
   "cell_type": "code",
   "execution_count": 14,
   "metadata": {},
   "outputs": [
    {
     "name": "stdout",
     "output_type": "stream",
     "text": [
      "total = 335\taverage = 47.857142857142854\n",
      "total =  335 \taverage =  47.857142857142854\n",
      "total = 335\taverage = 47.857142857142854\n"
     ]
    }
   ],
   "source": [
    "total = 0 \n",
    "for num in numbers_str:\n",
    "    total += int(num)\n",
    "avg = total / len(numbers_str)\n",
    "print('total = {}\\taverage = {}'.format(total, avg))\n",
    "print('total = ', total, '\\taverage = ', avg)\n",
    "print('total = ' +  str(total) + '\\taverage = ' + str(avg))"
   ]
  },
  {
   "cell_type": "code",
   "execution_count": 19,
   "metadata": {},
   "outputs": [],
   "source": [
    "file_writer = open('tatal_avg_result.txt', mode='w')\n",
    "file_writer.write('total = {}\\taverage = {}\\n'.format(total, avg))\n",
    "file_writer.write('total = ' +  str(total) + '\\taverage = ' + str(avg) + '\\n')\n",
    "file_writer.write(str(total) + ' ' + str(avg))\n",
    "file_writer.close()"
   ]
  },
  {
   "cell_type": "code",
   "execution_count": 20,
   "metadata": {},
   "outputs": [],
   "source": [
    "file_reader = open('mynumbers1.txt')\n",
    "number_str = file_reader.read().split()\n",
    "file_reader.close()\n",
    "total = 0 \n",
    "for n in number_str:\n",
    "    total += int(n)\n",
    "avg = total / len(number_str)\n",
    "file_writer = open('tatal_avg_result.txt', mode='w')\n",
    "file_writer.write('total = {} average = {}'.format(total, avg))\n",
    "file_writer.close()"
   ]
  },
  {
   "cell_type": "markdown",
   "metadata": {},
   "source": [
    "# format string "
   ]
  },
  {
   "cell_type": "code",
   "execution_count": 10,
   "metadata": {},
   "outputs": [
    {
     "name": "stdout",
     "output_type": "stream",
     "text": [
      "hello 13\n"
     ]
    }
   ],
   "source": [
    "print('hello {}'.format(13))"
   ]
  },
  {
   "cell_type": "code",
   "execution_count": 11,
   "metadata": {},
   "outputs": [
    {
     "name": "stdout",
     "output_type": "stream",
     "text": [
      "hello 13\thello again 100\n"
     ]
    }
   ],
   "source": [
    "x = 100 \n",
    "print('hello {}\\thello again {}'.format(13, x))"
   ]
  },
  {
   "cell_type": "markdown",
   "metadata": {},
   "source": [
    "# Append to files \n",
    "* add text to the end of an existing file \n",
    "* if the files does not exist, create the file  "
   ]
  },
  {
   "cell_type": "code",
   "execution_count": null,
   "metadata": {},
   "outputs": [],
   "source": []
  }
 ],
 "metadata": {
  "kernelspec": {
   "display_name": "Python 3",
   "language": "python",
   "name": "python3"
  },
  "language_info": {
   "codemirror_mode": {
    "name": "ipython",
    "version": 3
   },
   "file_extension": ".py",
   "mimetype": "text/x-python",
   "name": "python",
   "nbconvert_exporter": "python",
   "pygments_lexer": "ipython3",
   "version": "3.7.3"
  }
 },
 "nbformat": 4,
 "nbformat_minor": 4
}
